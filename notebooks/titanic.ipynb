{
 "cells": [
  {
   "cell_type": "code",
   "execution_count": null,
   "metadata": {},
   "outputs": [],
   "source": [
    "!pip install -e .\n",
    "%load_ext autoreload \n",
    "%autoreload 2"
   ]
  },
  {
   "cell_type": "code",
   "execution_count": 1,
   "metadata": {},
   "outputs": [],
   "source": [
    "import pandas as pd\n",
    "import numpy as np\n",
    "import seaborn as sns\n",
    "\n",
    "from titanic_pkg.data import Data\n",
    "from titanic_pkg.preprocessing import Preprocessing\n",
    "from titanic_pkg.pipeline_class import PipelineClass\n",
    "from titanic_pkg.ml import ML\n"
   ]
  },
  {
   "cell_type": "code",
   "execution_count": 2,
   "metadata": {},
   "outputs": [
    {
     "name": "stderr",
     "output_type": "stream",
     "text": [
      "/home/pierre/.pyenv/versions/3.8.6/envs/simplon/lib/python3.8/site-packages/titanic_pkg/preprocessing.py:26: SettingWithCopyWarning: \n",
      "A value is trying to be set on a copy of a slice from a DataFrame\n",
      "\n",
      "See the caveats in the documentation: https://pandas.pydata.org/pandas-docs/stable/user_guide/indexing.html#returning-a-view-versus-a-copy\n",
      "  self.df_titanic.age[i] = age_mean.man\n",
      "/home/pierre/.pyenv/versions/3.8.6/envs/simplon/lib/python3.8/site-packages/titanic_pkg/preprocessing.py:28: SettingWithCopyWarning: \n",
      "A value is trying to be set on a copy of a slice from a DataFrame\n",
      "\n",
      "See the caveats in the documentation: https://pandas.pydata.org/pandas-docs/stable/user_guide/indexing.html#returning-a-view-versus-a-copy\n",
      "  self.df_titanic.age[i] = age_mean.woman\n"
     ]
    }
   ],
   "source": [
    "prediction = ML()"
   ]
  },
  {
   "cell_type": "code",
   "execution_count": 22,
   "metadata": {},
   "outputs": [
    {
     "name": "stdout",
     "output_type": "stream",
     "text": [
      "    pclass     sex   age     fare embarked    who  alone\n",
      "565      3    male  24.0  24.1500        S    man  False\n",
      "160      3    male  44.0  16.1000        S    man  False\n",
      "553      3    male  22.0   7.2250        C    man   True\n",
      "860      3    male  41.0  14.1083        S    man  False\n",
      "241      3  female  32.0  15.5000        Q  woman  False\n",
      "..     ...     ...   ...      ...      ...    ...    ...\n",
      "880      2  female  25.0  26.0000        S  woman  False\n",
      "91       3    male  20.0   7.8542        S    man   True\n",
      "883      2    male  28.0  10.5000        S    man   True\n",
      "473      2  female  23.0  13.7917        C  woman   True\n",
      "637      2    male  31.0  26.2500        S    man  False\n",
      "\n",
      "[179 rows x 7 columns]\n",
      "############\n",
      "  pclass     sex   age   fare embarked    who  alone\n",
      "0      1  female  34.0  600.0        S  woman   True\n",
      "ceci est la pred (array([1]), Pipeline(steps=[('preprocessor',\n",
      "                 ColumnTransformer(remainder='passthrough',\n",
      "                                   transformers=[('num',\n",
      "                                                  Pipeline(steps=[('scaler',\n",
      "                                                                   RobustScaler())]),\n",
      "                                                  <sklearn.compose._column_transformer.make_column_selector object at 0x7f07d5856940>),\n",
      "                                                 ('cat',\n",
      "                                                  Pipeline(steps=[('imputer',\n",
      "                                                                   SimpleImputer(strategy='most_frequent')),\n",
      "                                                                  ('encoder',\n",
      "                                                                   OneHotEncoder(handle_unknown='ignore'))]),\n",
      "                                                  <sklearn.compose._column_transformer.make_column_selector object at 0x7f07d5856e80>)])),\n",
      "                ('regressor', RandomForestClassifier())]))\n"
     ]
    }
   ],
   "source": [
    "X=pd.DataFrame({'pclass':['1'],'sex':['female'],'age':[34.0],'fare':[600.0],'embarked':['S'],'who':['woman'],'alone':[True]})\n",
    "#X = np.array()\n",
    "#X = [['3','male',34.0,60.0,'S','man','True']]\n",
    "pred=prediction.model_predict_test(X)\n",
    "print('ceci est la pred' ,pred)"
   ]
  },
  {
   "cell_type": "code",
   "execution_count": null,
   "metadata": {},
   "outputs": [],
   "source": []
  },
  {
   "cell_type": "code",
   "execution_count": null,
   "metadata": {
    "scrolled": false
   },
   "outputs": [],
   "source": [
    "\n",
    "accuracy, classification_report, conf_matrix= prediction.model_score()"
   ]
  },
  {
   "cell_type": "code",
   "execution_count": null,
   "metadata": {},
   "outputs": [],
   "source": [
    "accuracy"
   ]
  },
  {
   "cell_type": "code",
   "execution_count": null,
   "metadata": {},
   "outputs": [],
   "source": [
    "print(classification_report)"
   ]
  },
  {
   "cell_type": "code",
   "execution_count": null,
   "metadata": {},
   "outputs": [],
   "source": [
    "conf_matrix"
   ]
  },
  {
   "cell_type": "code",
   "execution_count": null,
   "metadata": {
    "scrolled": false
   },
   "outputs": [],
   "source": [
    "data = Data()\n",
    "data.viz_info()"
   ]
  },
  {
   "cell_type": "code",
   "execution_count": null,
   "metadata": {},
   "outputs": [],
   "source": [
    "data. "
   ]
  },
  {
   "cell_type": "code",
   "execution_count": null,
   "metadata": {},
   "outputs": [],
   "source": [
    "data.viz_barplot()"
   ]
  },
  {
   "cell_type": "code",
   "execution_count": null,
   "metadata": {},
   "outputs": [],
   "source": [
    "data.viz_distplot()"
   ]
  },
  {
   "cell_type": "code",
   "execution_count": null,
   "metadata": {},
   "outputs": [],
   "source": [
    "df_titanic = data.lecture_df()\n",
    "prepro = Preprocessing()\n",
    "X_train, X_test, y_train, y_test = prepro.select_x_y()\n",
    "X_train.head()"
   ]
  },
  {
   "cell_type": "code",
   "execution_count": null,
   "metadata": {},
   "outputs": [],
   "source": [
    "X=[3,'male',34,60,'S','man','True']"
   ]
  },
  {
   "cell_type": "code",
   "execution_count": null,
   "metadata": {},
   "outputs": [],
   "source": [
    "prediction.fit_predict(X)"
   ]
  },
  {
   "cell_type": "code",
   "execution_count": null,
   "metadata": {},
   "outputs": [],
   "source": []
  }
 ],
 "metadata": {
  "interpreter": {
   "hash": "ccb8f63e32995b9c74b4ba3ce720260584342312bb90e19801e52a4fa01f4051"
  },
  "kernelspec": {
   "display_name": "Python 3 (ipykernel)",
   "language": "python",
   "name": "python3"
  },
  "language_info": {
   "codemirror_mode": {
    "name": "ipython",
    "version": 3
   },
   "file_extension": ".py",
   "mimetype": "text/x-python",
   "name": "python",
   "nbconvert_exporter": "python",
   "pygments_lexer": "ipython3",
   "version": "3.8.6"
  },
  "toc": {
   "base_numbering": 1,
   "nav_menu": {},
   "number_sections": true,
   "sideBar": true,
   "skip_h1_title": false,
   "title_cell": "Table of Contents",
   "title_sidebar": "Contents",
   "toc_cell": false,
   "toc_position": {},
   "toc_section_display": true,
   "toc_window_display": false
  }
 },
 "nbformat": 4,
 "nbformat_minor": 2
}
